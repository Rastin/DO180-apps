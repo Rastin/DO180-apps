{
  "nbformat": 4,
  "nbformat_minor": 0,
  "metadata": {
    "colab": {
      "name": "tensorflow-js.ipynb",
      "provenance": [],
      "collapsed_sections": [],
      "toc_visible": true,
      "include_colab_link": true
    },
    "kernelspec": {
      "name": "python3",
      "display_name": "Python 3"
    },
    "accelerator": "GPU"
  },
  "cells": [
    {
      "cell_type": "markdown",
      "metadata": {
        "id": "view-in-github",
        "colab_type": "text"
      },
      "source": [
        "<a href=\"https://colab.research.google.com/github/Rastin/DO180-apps/blob/master/tensorflow_js.ipynb\" target=\"_parent\"><img src=\"https://colab.research.google.com/assets/colab-badge.svg\" alt=\"Open In Colab\"/></a>"
      ]
    },
    {
      "metadata": {
        "id": "KB9pRq2Azg_I"
      },
      "cell_type": "markdown",
      "source": [
        "# TensorFlow.js\n",
        "\n",
        "* https://www.tensorflow.org/javascript/\n",
        "* https://js.tensorflow.org/"
      ]
    },
    {
      "metadata": {
        "id": "ZAp2Fepszyl4"
      },
      "cell_type": "markdown",
      "source": [
        "## Installation"
      ]
    },
    {
      "metadata": {
        "id": "G5cRdI-XRZO2",
        "colab": {
          "base_uri": "https://localhost:8080/",
          "height": 688
        },
        "outputId": "7e5e123c-865c-4f1d-c0c5-90ea22bf58ec"
      },
      "cell_type": "code",
      "source": [
        "!pip install \"tensorflow>=1.7.0\"\n",
        "!pip install tensorflowjs"
      ],
      "execution_count": null,
      "outputs": [
        {
          "output_type": "stream",
          "text": [
            "Requirement already satisfied: tensorflow>=1.7.0 in /usr/local/lib/python3.6/dist-packages\n",
            "Requirement already satisfied: astor>=0.6.0 in /usr/local/lib/python3.6/dist-packages (from tensorflow>=1.7.0)\n",
            "Requirement already satisfied: protobuf>=3.4.0 in /usr/local/lib/python3.6/dist-packages (from tensorflow>=1.7.0)\n",
            "Requirement already satisfied: six>=1.10.0 in /usr/local/lib/python3.6/dist-packages (from tensorflow>=1.7.0)\n",
            "Requirement already satisfied: gast>=0.2.0 in /usr/local/lib/python3.6/dist-packages (from tensorflow>=1.7.0)\n",
            "Requirement already satisfied: absl-py>=0.1.6 in /usr/local/lib/python3.6/dist-packages (from tensorflow>=1.7.0)\n",
            "Requirement already satisfied: wheel>=0.26 in /usr/local/lib/python3.6/dist-packages (from tensorflow>=1.7.0)\n",
            "Requirement already satisfied: tensorboard<1.8.0,>=1.7.0 in /usr/local/lib/python3.6/dist-packages (from tensorflow>=1.7.0)\n",
            "Requirement already satisfied: numpy>=1.13.3 in /usr/local/lib/python3.6/dist-packages (from tensorflow>=1.7.0)\n",
            "Requirement already satisfied: termcolor>=1.1.0 in /usr/local/lib/python3.6/dist-packages (from tensorflow>=1.7.0)\n",
            "Requirement already satisfied: grpcio>=1.8.6 in /usr/local/lib/python3.6/dist-packages (from tensorflow>=1.7.0)\n",
            "Requirement already satisfied: setuptools in /usr/lib/python3/dist-packages (from protobuf>=3.4.0->tensorflow>=1.7.0)\n",
            "Requirement already satisfied: werkzeug>=0.11.10 in /usr/local/lib/python3.6/dist-packages (from tensorboard<1.8.0,>=1.7.0->tensorflow>=1.7.0)\n",
            "Requirement already satisfied: bleach==1.5.0 in /usr/local/lib/python3.6/dist-packages (from tensorboard<1.8.0,>=1.7.0->tensorflow>=1.7.0)\n",
            "Requirement already satisfied: html5lib==0.9999999 in /usr/local/lib/python3.6/dist-packages (from tensorboard<1.8.0,>=1.7.0->tensorflow>=1.7.0)\n",
            "Requirement already satisfied: markdown>=2.6.8 in /usr/local/lib/python3.6/dist-packages (from tensorboard<1.8.0,>=1.7.0->tensorflow>=1.7.0)\n",
            "Requirement already satisfied: tensorflowjs in /usr/local/lib/python3.6/dist-packages\n",
            "Requirement already satisfied: six>=1.11.0 in /usr/local/lib/python3.6/dist-packages (from tensorflowjs)\n",
            "Requirement already satisfied: numpy>=1.14.1 in /usr/local/lib/python3.6/dist-packages (from tensorflowjs)\n",
            "Requirement already satisfied: h5py>=2.7.1 in /usr/local/lib/python3.6/dist-packages (from tensorflowjs)\n",
            "Requirement already satisfied: tensorflow>=1.6.0 in /usr/local/lib/python3.6/dist-packages (from tensorflowjs)\n",
            "Requirement already satisfied: keras>=2.1.4 in /usr/local/lib/python3.6/dist-packages (from tensorflowjs)\n",
            "Requirement already satisfied: grpcio>=1.8.6 in /usr/local/lib/python3.6/dist-packages (from tensorflow>=1.6.0->tensorflowjs)\n",
            "Requirement already satisfied: tensorboard<1.8.0,>=1.7.0 in /usr/local/lib/python3.6/dist-packages (from tensorflow>=1.6.0->tensorflowjs)\n",
            "Requirement already satisfied: gast>=0.2.0 in /usr/local/lib/python3.6/dist-packages (from tensorflow>=1.6.0->tensorflowjs)\n",
            "Requirement already satisfied: protobuf>=3.4.0 in /usr/local/lib/python3.6/dist-packages (from tensorflow>=1.6.0->tensorflowjs)\n",
            "Requirement already satisfied: astor>=0.6.0 in /usr/local/lib/python3.6/dist-packages (from tensorflow>=1.6.0->tensorflowjs)\n",
            "Requirement already satisfied: termcolor>=1.1.0 in /usr/local/lib/python3.6/dist-packages (from tensorflow>=1.6.0->tensorflowjs)\n",
            "Requirement already satisfied: wheel>=0.26 in /usr/local/lib/python3.6/dist-packages (from tensorflow>=1.6.0->tensorflowjs)\n",
            "Requirement already satisfied: absl-py>=0.1.6 in /usr/local/lib/python3.6/dist-packages (from tensorflow>=1.6.0->tensorflowjs)\n",
            "Requirement already satisfied: pyyaml in /usr/local/lib/python3.6/dist-packages (from keras>=2.1.4->tensorflowjs)\n",
            "Requirement already satisfied: scipy>=0.14 in /usr/local/lib/python3.6/dist-packages (from keras>=2.1.4->tensorflowjs)\n",
            "Requirement already satisfied: werkzeug>=0.11.10 in /usr/local/lib/python3.6/dist-packages (from tensorboard<1.8.0,>=1.7.0->tensorflow>=1.6.0->tensorflowjs)\n",
            "Requirement already satisfied: bleach==1.5.0 in /usr/local/lib/python3.6/dist-packages (from tensorboard<1.8.0,>=1.7.0->tensorflow>=1.6.0->tensorflowjs)\n",
            "Requirement already satisfied: html5lib==0.9999999 in /usr/local/lib/python3.6/dist-packages (from tensorboard<1.8.0,>=1.7.0->tensorflow>=1.6.0->tensorflowjs)\n",
            "Requirement already satisfied: markdown>=2.6.8 in /usr/local/lib/python3.6/dist-packages (from tensorboard<1.8.0,>=1.7.0->tensorflow>=1.6.0->tensorflowjs)\n",
            "Requirement already satisfied: setuptools in /usr/lib/python3/dist-packages (from protobuf>=3.4.0->tensorflow>=1.6.0->tensorflowjs)\n"
          ],
          "name": "stdout"
        }
      ]
    },
    {
      "metadata": {
        "id": "PU6ZILJfRfpD"
      },
      "cell_type": "code",
      "source": [
        "from __future__ import absolute_import\n",
        "from __future__ import division\n",
        "from __future__ import print_function\n",
        "\n",
        "import numpy as np\n",
        "import tensorflow as tf"
      ],
      "execution_count": null,
      "outputs": []
    },
    {
      "metadata": {
        "id": "RSO2WkN0R-ru"
      },
      "cell_type": "markdown",
      "source": [
        "## Prepare Dataset"
      ]
    },
    {
      "metadata": {
        "id": "RfjY3KklR_mG",
        "colab": {
          "base_uri": "https://localhost:8080/",
          "height": 477
        },
        "outputId": "3b5067e3-c384-4639-d39b-1672db75fb6f"
      },
      "cell_type": "code",
      "source": [
        "from tensorflow.examples.tutorials.mnist import input_data\n",
        "mnist = input_data.read_data_sets(\"MNIST_data/\", one_hot=True)"
      ],
      "execution_count": null,
      "outputs": [
        {
          "output_type": "stream",
          "text": [
            "WARNING:tensorflow:From /usr/local/lib/python3.6/dist-packages/tensorflow/contrib/learn/python/learn/datasets/base.py:198: retry (from tensorflow.contrib.learn.python.learn.datasets.base) is deprecated and will be removed in a future version.\n",
            "Instructions for updating:\n",
            "Use the retry module or similar alternatives.\n",
            "WARNING:tensorflow:From <ipython-input-3-8bf8ae5a5303>:2: read_data_sets (from tensorflow.contrib.learn.python.learn.datasets.mnist) is deprecated and will be removed in a future version.\n",
            "Instructions for updating:\n",
            "Please use alternatives such as official/mnist/dataset.py from tensorflow/models.\n",
            "WARNING:tensorflow:From /usr/local/lib/python3.6/dist-packages/tensorflow/contrib/learn/python/learn/datasets/mnist.py:260: maybe_download (from tensorflow.contrib.learn.python.learn.datasets.base) is deprecated and will be removed in a future version.\n",
            "Instructions for updating:\n",
            "Please write your own downloading logic.\n",
            "WARNING:tensorflow:From /usr/local/lib/python3.6/dist-packages/tensorflow/contrib/learn/python/learn/datasets/mnist.py:262: extract_images (from tensorflow.contrib.learn.python.learn.datasets.mnist) is deprecated and will be removed in a future version.\n",
            "Instructions for updating:\n",
            "Please use tf.data to implement this functionality.\n",
            "Extracting MNIST_data/train-images-idx3-ubyte.gz\n",
            "WARNING:tensorflow:From /usr/local/lib/python3.6/dist-packages/tensorflow/contrib/learn/python/learn/datasets/mnist.py:267: extract_labels (from tensorflow.contrib.learn.python.learn.datasets.mnist) is deprecated and will be removed in a future version.\n",
            "Instructions for updating:\n",
            "Please use tf.data to implement this functionality.\n",
            "Extracting MNIST_data/train-labels-idx1-ubyte.gz\n",
            "WARNING:tensorflow:From /usr/local/lib/python3.6/dist-packages/tensorflow/contrib/learn/python/learn/datasets/mnist.py:110: dense_to_one_hot (from tensorflow.contrib.learn.python.learn.datasets.mnist) is deprecated and will be removed in a future version.\n",
            "Instructions for updating:\n",
            "Please use tf.one_hot on tensors.\n",
            "Extracting MNIST_data/t10k-images-idx3-ubyte.gz\n",
            "Extracting MNIST_data/t10k-labels-idx1-ubyte.gz\n",
            "WARNING:tensorflow:From /usr/local/lib/python3.6/dist-packages/tensorflow/contrib/learn/python/learn/datasets/mnist.py:290: DataSet.__init__ (from tensorflow.contrib.learn.python.learn.datasets.mnist) is deprecated and will be removed in a future version.\n",
            "Instructions for updating:\n",
            "Please use alternatives such as official/mnist/dataset.py from tensorflow/models.\n"
          ],
          "name": "stdout"
        }
      ]
    },
    {
      "metadata": {
        "id": "6jKmDjPKSD1j"
      },
      "cell_type": "markdown",
      "source": [
        "## Build Model"
      ]
    },
    {
      "metadata": {
        "id": "9gSiFMv7T2JH"
      },
      "cell_type": "code",
      "source": [
        "sess = tf.InteractiveSession()"
      ],
      "execution_count": null,
      "outputs": []
    },
    {
      "metadata": {
        "id": "EBTJs-JOSVBS"
      },
      "cell_type": "code",
      "source": [
        "def weight_variable(shape):\n",
        "  initial = tf.truncated_normal(shape, stddev=0.1)\n",
        "  return tf.Variable(initial)\n",
        "\n",
        "def bias_variable(shape):\n",
        "  initial = tf.constant(0.1, shape=shape)\n",
        "  return tf.Variable(initial)"
      ],
      "execution_count": null,
      "outputs": []
    },
    {
      "metadata": {
        "id": "b7_mTzOGSmBq"
      },
      "cell_type": "markdown",
      "source": [
        "### Hypterparameter"
      ]
    },
    {
      "metadata": {
        "id": "jAKZ67fESlQ2"
      },
      "cell_type": "code",
      "source": [
        "n_input = 784\n",
        "n_node = 256\n",
        "n_out = 10"
      ],
      "execution_count": null,
      "outputs": []
    },
    {
      "metadata": {
        "id": "_vSAA7nxSITt"
      },
      "cell_type": "code",
      "source": [
        "x = tf.placeholder(tf.float32, [None, n_input], name=\"x\")"
      ],
      "execution_count": null,
      "outputs": []
    },
    {
      "metadata": {
        "id": "ZjWqqy4_SJSu"
      },
      "cell_type": "code",
      "source": [
        "y_ = tf.placeholder(tf.float32, [None, n_out])"
      ],
      "execution_count": null,
      "outputs": []
    },
    {
      "metadata": {
        "id": "BZa2G0qfScF_"
      },
      "cell_type": "code",
      "source": [
        "W = weight_variable([n_input, n_node])\n",
        "b = bias_variable([n_node])\n",
        "layer_h = tf.nn.relu(tf.matmul(x, W) + b)"
      ],
      "execution_count": null,
      "outputs": []
    },
    {
      "metadata": {
        "id": "q1aAxPbuSfSL"
      },
      "cell_type": "code",
      "source": [
        "W_out = bias_variable([n_node, n_out])\n",
        "b_out =bias_variable([n_out])\n",
        "y = tf.nn.relu(tf.matmul(layer_h, W_out) + b_out)"
      ],
      "execution_count": null,
      "outputs": []
    },
    {
      "metadata": {
        "id": "e-pvUW48W9YS"
      },
      "cell_type": "code",
      "source": [
        "softmax = tf.nn.softmax(y, name=\"softmax\")"
      ],
      "execution_count": null,
      "outputs": []
    },
    {
      "metadata": {
        "id": "NiPg842aUKP4"
      },
      "cell_type": "markdown",
      "source": [
        "## Loss Function"
      ]
    },
    {
      "metadata": {
        "id": "teHYx5yMS1eZ"
      },
      "cell_type": "code",
      "source": [
        "cross_entropy = tf.reduce_mean(\n",
        "    tf.nn.softmax_cross_entropy_with_logits_v2(labels=y_, logits=y))"
      ],
      "execution_count": null,
      "outputs": []
    },
    {
      "metadata": {
        "id": "s1BpwI65UTWP"
      },
      "cell_type": "code",
      "source": [
        "correct_prediction = tf.equal(tf.argmax(softmax, 1), tf.argmax(y_, 1))\n",
        "accuracy = tf.reduce_mean(tf.cast(correct_prediction, tf.float32))"
      ],
      "execution_count": null,
      "outputs": []
    },
    {
      "metadata": {
        "id": "frzIhleUUNB1"
      },
      "cell_type": "markdown",
      "source": [
        "## Optimazation Algorithm"
      ]
    },
    {
      "metadata": {
        "id": "nxctrOlqUQbu"
      },
      "cell_type": "code",
      "source": [
        "train_step = tf.train.AdamOptimizer().minimize(cross_entropy)"
      ],
      "execution_count": null,
      "outputs": []
    },
    {
      "metadata": {
        "id": "Goy_LVKHTTIZ"
      },
      "cell_type": "markdown",
      "source": [
        "## Train"
      ]
    },
    {
      "metadata": {
        "id": "xYk75kryS3a5",
        "colab": {
          "base_uri": "https://localhost:8080/",
          "height": 211
        },
        "outputId": "67f4c17c-3544-4d64-badc-495e525523c8"
      },
      "cell_type": "code",
      "source": [
        "tf.global_variables_initializer().run()\n",
        "for i in range(2000):\n",
        "  batch = mnist.train.next_batch(50)\n",
        "  if i % 200 == 0:\n",
        "    train_accuracy = accuracy.eval(feed_dict={\n",
        "        x: batch[0], y_: batch[1]})\n",
        "    print('step %d, training accuracy %g' % (i, train_accuracy))\n",
        "  train_step.run(feed_dict={x: batch[0], y_: batch[1]})\n",
        "\n",
        "print('test accuracy %g' % accuracy.eval(feed_dict={\n",
        "    x: mnist.test.images, y_: mnist.test.labels}))"
      ],
      "execution_count": null,
      "outputs": [
        {
          "output_type": "stream",
          "text": [
            "step 0, training accuracy 0.08\n",
            "step 200, training accuracy 0.94\n",
            "step 400, training accuracy 0.96\n",
            "step 600, training accuracy 0.92\n",
            "step 800, training accuracy 0.9\n",
            "step 1000, training accuracy 0.98\n",
            "step 1200, training accuracy 0.94\n",
            "step 1400, training accuracy 0.98\n",
            "step 1600, training accuracy 0.98\n",
            "step 1800, training accuracy 0.98\n",
            "test accuracy 0.9685\n"
          ],
          "name": "stdout"
        }
      ]
    },
    {
      "metadata": {
        "id": "rWfQ43vgTVGb"
      },
      "cell_type": "markdown",
      "source": [
        "## Build SavedModel"
      ]
    },
    {
      "metadata": {
        "id": "hkG_4YAlYRZk",
        "colab": {
          "base_uri": "https://localhost:8080/",
          "height": 70
        },
        "outputId": "8ed5ea88-5678-4c34-c2f6-e937c0ec3b02"
      },
      "cell_type": "code",
      "source": [
        "!ls -l"
      ],
      "execution_count": null,
      "outputs": [
        {
          "output_type": "stream",
          "text": [
            "total 8\r\n",
            "drwxr-xr-x 1 root root 4096 Mar 13 21:48 datalab\r\n",
            "drwxr-xr-x 2 root root 4096 Apr  6 09:28 MNIST_data\r\n"
          ],
          "name": "stdout"
        }
      ]
    },
    {
      "metadata": {
        "id": "f9dUj2edYTCy"
      },
      "cell_type": "code",
      "source": [
        "# !rm -rf saved_model/\n",
        "# !rm -rf web_model/"
      ],
      "execution_count": null,
      "outputs": []
    },
    {
      "metadata": {
        "id": "Cr8P8PLVTWgb",
        "colab": {
          "base_uri": "https://localhost:8080/",
          "height": 70
        },
        "outputId": "5bc5ee21-1d34-47b2-858e-b866fb3f9854"
      },
      "cell_type": "code",
      "source": [
        "tf.saved_model.simple_save(sess, \"./saved_model\", \n",
        "                           inputs={\"x\": x, }, outputs={\"softmax\": softmax, })"
      ],
      "execution_count": null,
      "outputs": [
        {
          "output_type": "stream",
          "text": [
            "INFO:tensorflow:Assets added to graph.\n",
            "INFO:tensorflow:No assets to write.\n",
            "INFO:tensorflow:SavedModel written to: b'./saved_model/saved_model.pb'\n"
          ],
          "name": "stdout"
        }
      ]
    },
    {
      "metadata": {
        "id": "YoxTeu47XEnO",
        "colab": {
          "base_uri": "https://localhost:8080/",
          "height": 87
        },
        "outputId": "7f117e65-23c5-407f-faa3-ddd2b51ad239"
      },
      "cell_type": "code",
      "source": [
        "!ls -l"
      ],
      "execution_count": null,
      "outputs": [
        {
          "output_type": "stream",
          "text": [
            "total 12\r\n",
            "drwxr-xr-x 1 root root 4096 Mar 13 21:48 datalab\r\n",
            "drwxr-xr-x 2 root root 4096 Apr  6 09:28 MNIST_data\r\n",
            "drwxr-xr-x 3 root root 4096 Apr  6 09:41 saved_model\r\n"
          ],
          "name": "stdout"
        }
      ]
    },
    {
      "metadata": {
        "id": "mQeJq_nQXtci"
      },
      "cell_type": "markdown",
      "source": [
        "## Converting a SavedModel to a web-friendly format"
      ]
    },
    {
      "metadata": {
        "id": "s4qOKajUXGFE",
        "colab": {
          "base_uri": "https://localhost:8080/",
          "height": 336
        },
        "outputId": "d3f1a896-0677-4f10-80ce-7f57c48ca256"
      },
      "cell_type": "code",
      "source": [
        "!tensorflowjs_converter --input_format=tf_saved_model \\\n",
        "  --output_node_names=\"softmax\" \\\n",
        "  --saved_model_tags=serve ./saved_model \\\n",
        "  ./web_model"
      ],
      "execution_count": null,
      "outputs": [
        {
          "output_type": "stream",
          "text": [
            "/usr/local/lib/python3.6/dist-packages/h5py/__init__.py:36: FutureWarning: Conversion of the second argument of issubdtype from `float` to `np.floating` is deprecated. In future, it will be treated as `np.float64 == np.dtype(float).type`.\r\n",
            "  from ._conv import register_converters as _register_converters\n",
            "Using TensorFlow backend.\n",
            "WARNING:tensorflow:From /usr/local/lib/python3.6/dist-packages/tensorflow/contrib/learn/python/learn/datasets/base.py:198: retry (from tensorflow.contrib.learn.python.learn.datasets.base) is deprecated and will be removed in a future version.\n",
            "Instructions for updating:\n",
            "Use the retry module or similar alternatives.\n",
            "2018-04-06 09:41:35.949558: I tensorflow/core/platform/cpu_feature_guard.cc:140] Your CPU supports instructions that this TensorFlow binary was not compiled to use: AVX2 FMA\n",
            "Converted 4 variables to const ops.\n",
            "2018-04-06 09:41:36.174428: I tensorflow/core/grappler/optimizers/meta_optimizer.cc:221] Return status of optimizer model_pruner: OK. Graph size before: 16 nodes, 15 edges. Graph size after: 12 nodes, 11 edges.\n",
            "2018-04-06 09:41:36.174467: I tensorflow/core/grappler/optimizers/meta_optimizer.cc:221] Return status of optimizer constant folding: OK. Graph size before: 12 nodes, 11 edges. Graph size after: 12 nodes, 11 edges.\n",
            "2018-04-06 09:41:36.174531: I tensorflow/core/grappler/optimizers/meta_optimizer.cc:221] Return status of optimizer arithmetic_optimizer: OK. Graph size before: 12 nodes, 11 edges. Graph size after: 12 nodes, 11 edges.\n",
            "2018-04-06 09:41:36.174551: I tensorflow/core/grappler/optimizers/meta_optimizer.cc:221] Return status of optimizer dependency_optimizer: OK. Graph size before: 12 nodes, 11 edges. Graph size after: 12 nodes, 11 edges.\n",
            "2018-04-06 09:41:36.174570: I tensorflow/core/grappler/optimizers/meta_optimizer.cc:221] Return status of optimizer model_pruner: OK. Graph size before: 12 nodes, 11 edges. Graph size after: 12 nodes, 11 edges.\n",
            "2018-04-06 09:41:36.174588: I tensorflow/core/grappler/optimizers/meta_optimizer.cc:221] Return status of optimizer constant folding: OK. Graph size before: 12 nodes, 11 edges. Graph size after: 12 nodes, 11 edges.\n",
            "2018-04-06 09:41:36.174603: I tensorflow/core/grappler/optimizers/meta_optimizer.cc:221] Return status of optimizer arithmetic_optimizer: OK. Graph size before: 12 nodes, 11 edges. Graph size after: 12 nodes, 11 edges.\n",
            "2018-04-06 09:41:36.174618: I tensorflow/core/grappler/optimizers/meta_optimizer.cc:221] Return status of optimizer dependency_optimizer: OK. Graph size before: 12 nodes, 11 edges. Graph size after: 12 nodes, 11 edges.\n",
            "Writing weight file ./web_model/tensorflowjs_model.pb...\n"
          ],
          "name": "stdout"
        }
      ]
    },
    {
      "metadata": {
        "id": "rjMhBW65XMHl",
        "colab": {
          "base_uri": "https://localhost:8080/",
          "height": 105
        },
        "outputId": "b4ddd670-9ca6-4514-9e46-ec27a259625f"
      },
      "cell_type": "code",
      "source": [
        "!ls -l"
      ],
      "execution_count": null,
      "outputs": [
        {
          "output_type": "stream",
          "text": [
            "total 16\r\n",
            "drwxr-xr-x 1 root root 4096 Mar 13 21:48 datalab\r\n",
            "drwxr-xr-x 2 root root 4096 Apr  6 09:28 MNIST_data\r\n",
            "drwxr-xr-x 3 root root 4096 Apr  6 09:41 saved_model\r\n",
            "drwxr-xr-x 2 root root 4096 Apr  6 09:41 web_model\r\n"
          ],
          "name": "stdout"
        }
      ]
    },
    {
      "metadata": {
        "id": "HyRjAQzkYq5n",
        "colab": {
          "base_uri": "https://localhost:8080/",
          "height": 87
        },
        "outputId": "2ae610bd-ade9-4784-b397-af777ca346e2"
      },
      "cell_type": "code",
      "source": [
        "!ls -l web_model/"
      ],
      "execution_count": null,
      "outputs": [
        {
          "output_type": "stream",
          "text": [
            "total 804\r\n",
            "-rw-r--r-- 1 root root 814120 Apr  6 09:41 group1-shard1of1\r\n",
            "-rw-r--r-- 1 root root    642 Apr  6 09:41 tensorflowjs_model.pb\r\n",
            "-rw-r--r-- 1 root root    292 Apr  6 09:41 weights_manifest.json\r\n"
          ],
          "name": "stdout"
        }
      ]
    },
    {
      "metadata": {
        "id": "DNQ_Nv2dZv4Z"
      },
      "cell_type": "markdown",
      "source": [
        "## Download Model"
      ]
    },
    {
      "metadata": {
        "id": "-KigiJwVZL15"
      },
      "cell_type": "code",
      "source": [
        "from google.colab import files"
      ],
      "execution_count": null,
      "outputs": []
    },
    {
      "metadata": {
        "id": "iEYvjivLZZZH",
        "colab": {
          "base_uri": "https://localhost:8080/",
          "height": 87
        },
        "outputId": "fe37866b-b598-4155-b4ba-db2512754f96"
      },
      "cell_type": "code",
      "source": [
        "!zip web_model -r web_model/"
      ],
      "execution_count": null,
      "outputs": [
        {
          "output_type": "stream",
          "text": [
            "  adding: web_model/ (stored 0%)\r\n",
            "  adding: web_model/weights_manifest.json (deflated 58%)\r\n",
            "  adding: web_model/tensorflowjs_model.pb (deflated 53%)\n",
            "  adding: web_model/group1-shard1of1 (deflated 7%)\n"
          ],
          "name": "stdout"
        }
      ]
    },
    {
      "metadata": {
        "id": "Y9saatU4ZggR",
        "colab": {
          "base_uri": "https://localhost:8080/",
          "height": 123
        },
        "outputId": "73b376c7-0e7f-4fbe-eac3-bc264da96726"
      },
      "cell_type": "code",
      "source": [
        "!ls -l"
      ],
      "execution_count": null,
      "outputs": [
        {
          "output_type": "stream",
          "text": [
            "total 756\r\n",
            "drwxr-xr-x 1 root root   4096 Mar 13 21:48 datalab\r\n",
            "drwxr-xr-x 2 root root   4096 Apr  6 09:28 MNIST_data\r\n",
            "drwxr-xr-x 3 root root   4096 Apr  6 09:41 saved_model\r\n",
            "drwxr-xr-x 2 root root   4096 Apr  6 09:41 web_model\r\n",
            "-rw-r--r-- 1 root root 756693 Apr  6 09:42 web_model.zip\r\n"
          ],
          "name": "stdout"
        }
      ]
    },
    {
      "metadata": {
        "id": "AzDsFeaUZQVg"
      },
      "cell_type": "code",
      "source": [
        "files.download(\"web_model.zip\")"
      ],
      "execution_count": null,
      "outputs": []
    },
    {
      "metadata": {
        "id": "Vu3u1Y4yYvCP"
      },
      "cell_type": "markdown",
      "source": [
        "---"
      ]
    }
  ]
}